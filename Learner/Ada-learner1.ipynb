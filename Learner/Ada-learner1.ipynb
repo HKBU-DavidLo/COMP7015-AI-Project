{
 "cells": [
  {
   "cell_type": "code",
   "execution_count": 1,
   "metadata": {},
   "outputs": [],
   "source": [
    "import numpy as np\n",
    "import pandas as pd\n",
    "dataset = pd.read_csv(\"..\\\\DATA\\\\processed_stock_data.csv\")"
   ]
  },
  {
   "cell_type": "code",
   "execution_count": 2,
   "metadata": {},
   "outputs": [
    {
     "name": "stdout",
     "output_type": "stream",
     "text": [
      "(416, 12)\n"
     ]
    }
   ],
   "source": [
    "print(dataset.shape)"
   ]
  },
  {
   "cell_type": "code",
   "execution_count": 3,
   "metadata": {},
   "outputs": [
    {
     "data": {
      "text/html": [
       "<div>\n",
       "<style scoped>\n",
       "    .dataframe tbody tr th:only-of-type {\n",
       "        vertical-align: middle;\n",
       "    }\n",
       "\n",
       "    .dataframe tbody tr th {\n",
       "        vertical-align: top;\n",
       "    }\n",
       "\n",
       "    .dataframe thead th {\n",
       "        text-align: right;\n",
       "    }\n",
       "</style>\n",
       "<table border=\"1\" class=\"dataframe\">\n",
       "  <thead>\n",
       "    <tr style=\"text-align: right;\">\n",
       "      <th></th>\n",
       "      <th>Unnamed: 0</th>\n",
       "      <th>ticker</th>\n",
       "      <th>list_date</th>\n",
       "      <th>market_cap</th>\n",
       "      <th>mkt_cap_low</th>\n",
       "      <th>mkt_cap_high</th>\n",
       "      <th>lower_offer_pr</th>\n",
       "      <th>upper_offer_pr</th>\n",
       "      <th>final_offer_price</th>\n",
       "      <th>over_sub_ratio</th>\n",
       "      <th>allot_odds</th>\n",
       "      <th>firstday_return</th>\n",
       "    </tr>\n",
       "  </thead>\n",
       "  <tbody>\n",
       "    <tr>\n",
       "      <th>0</th>\n",
       "      <td>0</td>\n",
       "      <td>06618.HK</td>\n",
       "      <td>2020/12/08</td>\n",
       "      <td>1963.81-2207.09</td>\n",
       "      <td>1963.81</td>\n",
       "      <td>1963.81</td>\n",
       "      <td>62.800</td>\n",
       "      <td>70.58</td>\n",
       "      <td>70.580</td>\n",
       "      <td>420.9</td>\n",
       "      <td>0.4</td>\n",
       "      <td>0.00000</td>\n",
       "    </tr>\n",
       "    <tr>\n",
       "      <th>1</th>\n",
       "      <td>1</td>\n",
       "      <td>02110.HK</td>\n",
       "      <td>2020/12/07</td>\n",
       "      <td>5.00-6.00</td>\n",
       "      <td>5.00</td>\n",
       "      <td>5.00</td>\n",
       "      <td>0.225</td>\n",
       "      <td>0.27</td>\n",
       "      <td>0.225</td>\n",
       "      <td>35.8</td>\n",
       "      <td>0.2</td>\n",
       "      <td>-0.14667</td>\n",
       "    </tr>\n",
       "    <tr>\n",
       "      <th>2</th>\n",
       "      <td>2</td>\n",
       "      <td>06666.HK</td>\n",
       "      <td>2020/12/02</td>\n",
       "      <td>918.92-1054.05</td>\n",
       "      <td>918.92</td>\n",
       "      <td>918.92</td>\n",
       "      <td>8.500</td>\n",
       "      <td>9.75</td>\n",
       "      <td>8.800</td>\n",
       "      <td>9.7</td>\n",
       "      <td>0.5</td>\n",
       "      <td>-0.00227</td>\n",
       "    </tr>\n",
       "    <tr>\n",
       "      <th>3</th>\n",
       "      <td>3</td>\n",
       "      <td>06996.HK</td>\n",
       "      <td>2020/11/20</td>\n",
       "      <td>105.58-120.81</td>\n",
       "      <td>105.58</td>\n",
       "      <td>105.58</td>\n",
       "      <td>15.800</td>\n",
       "      <td>18.08</td>\n",
       "      <td>18.080</td>\n",
       "      <td>263.8</td>\n",
       "      <td>0.2</td>\n",
       "      <td>0.01106</td>\n",
       "    </tr>\n",
       "    <tr>\n",
       "      <th>4</th>\n",
       "      <td>4</td>\n",
       "      <td>01516.HK</td>\n",
       "      <td>2020/11/19</td>\n",
       "      <td>316.50-379.50</td>\n",
       "      <td>316.50</td>\n",
       "      <td>316.50</td>\n",
       "      <td>10.550</td>\n",
       "      <td>12.65</td>\n",
       "      <td>11.600</td>\n",
       "      <td>9.4</td>\n",
       "      <td>0.3</td>\n",
       "      <td>0.21897</td>\n",
       "    </tr>\n",
       "  </tbody>\n",
       "</table>\n",
       "</div>"
      ],
      "text/plain": [
       "   Unnamed: 0    ticker   list_date       market_cap  mkt_cap_low  \\\n",
       "0           0  06618.HK  2020/12/08  1963.81-2207.09      1963.81   \n",
       "1           1  02110.HK  2020/12/07        5.00-6.00         5.00   \n",
       "2           2  06666.HK  2020/12/02   918.92-1054.05       918.92   \n",
       "3           3  06996.HK  2020/11/20    105.58-120.81       105.58   \n",
       "4           4  01516.HK  2020/11/19    316.50-379.50       316.50   \n",
       "\n",
       "   mkt_cap_high  lower_offer_pr  upper_offer_pr  final_offer_price  \\\n",
       "0       1963.81          62.800           70.58             70.580   \n",
       "1          5.00           0.225            0.27              0.225   \n",
       "2        918.92           8.500            9.75              8.800   \n",
       "3        105.58          15.800           18.08             18.080   \n",
       "4        316.50          10.550           12.65             11.600   \n",
       "\n",
       "   over_sub_ratio  allot_odds  firstday_return  \n",
       "0           420.9         0.4          0.00000  \n",
       "1            35.8         0.2         -0.14667  \n",
       "2             9.7         0.5         -0.00227  \n",
       "3           263.8         0.2          0.01106  \n",
       "4             9.4         0.3          0.21897  "
      ]
     },
     "execution_count": 3,
     "metadata": {},
     "output_type": "execute_result"
    }
   ],
   "source": [
    "dataset.head()"
   ]
  },
  {
   "cell_type": "code",
   "execution_count": 4,
   "metadata": {},
   "outputs": [
    {
     "name": "stdout",
     "output_type": "stream",
     "text": [
      "<class 'pandas.core.frame.DataFrame'>\n",
      "RangeIndex: 416 entries, 0 to 415\n",
      "Data columns (total 12 columns):\n",
      " #   Column             Non-Null Count  Dtype  \n",
      "---  ------             --------------  -----  \n",
      " 0   Unnamed: 0         416 non-null    int64  \n",
      " 1   ticker             416 non-null    object \n",
      " 2   list_date          416 non-null    object \n",
      " 3   market_cap         416 non-null    object \n",
      " 4   mkt_cap_low        416 non-null    float64\n",
      " 5   mkt_cap_high       416 non-null    float64\n",
      " 6   lower_offer_pr     416 non-null    float64\n",
      " 7   upper_offer_pr     416 non-null    float64\n",
      " 8   final_offer_price  416 non-null    float64\n",
      " 9   over_sub_ratio     416 non-null    float64\n",
      " 10  allot_odds         416 non-null    float64\n",
      " 11  firstday_return    416 non-null    float64\n",
      "dtypes: float64(8), int64(1), object(3)\n",
      "memory usage: 39.1+ KB\n"
     ]
    }
   ],
   "source": [
    "dataset.info()"
   ]
  },
  {
   "cell_type": "code",
   "execution_count": 5,
   "metadata": {},
   "outputs": [],
   "source": [
    "X, y = dataset.iloc[:, 4:-1], dataset.iloc[:,-1]"
   ]
  },
  {
   "cell_type": "code",
   "execution_count": 6,
   "metadata": {},
   "outputs": [],
   "source": [
    "# import AdaBoost's necessarily tools\n",
    "from numpy import mean\n",
    "from numpy import std\n",
    "from sklearn.datasets import make_regression\n",
    "from sklearn.model_selection import cross_val_score\n",
    "from sklearn.model_selection import RepeatedKFold\n",
    "from sklearn.ensemble import AdaBoostRegressor"
   ]
  },
  {
   "cell_type": "code",
   "execution_count": 7,
   "metadata": {},
   "outputs": [],
   "source": [
    "model = AdaBoostRegressor()"
   ]
  },
  {
   "cell_type": "code",
   "execution_count": 8,
   "metadata": {},
   "outputs": [],
   "source": [
    "cv = RepeatedKFold(n_splits=10, n_repeats=3, random_state=123)"
   ]
  },
  {
   "cell_type": "code",
   "execution_count": 9,
   "metadata": {},
   "outputs": [],
   "source": [
    "n_scores = cross_val_score(model, X, y, scoring=\"neg_root_mean_squared_error\", cv=cv, n_jobs=-1, error_score=\"raise\")\n"
   ]
  },
  {
   "cell_type": "code",
   "execution_count": 10,
   "metadata": {},
   "outputs": [
    {
     "name": "stdout",
     "output_type": "stream",
     "text": [
      "RMSE: 0.48368\n"
     ]
    }
   ],
   "source": [
    "print('RMSE: %.5f' % (-1*mean(n_scores)))"
   ]
  },
  {
   "cell_type": "code",
   "execution_count": null,
   "metadata": {},
   "outputs": [],
   "source": []
  }
 ],
 "metadata": {
  "kernelspec": {
   "display_name": "Python 3",
   "language": "python",
   "name": "python3"
  },
  "language_info": {
   "codemirror_mode": {
    "name": "ipython",
    "version": 3
   },
   "file_extension": ".py",
   "mimetype": "text/x-python",
   "name": "python",
   "nbconvert_exporter": "python",
   "pygments_lexer": "ipython3",
   "version": "3.7.9"
  }
 },
 "nbformat": 4,
 "nbformat_minor": 4
}
