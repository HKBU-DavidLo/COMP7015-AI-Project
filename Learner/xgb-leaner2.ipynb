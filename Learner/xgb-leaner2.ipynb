{
 "cells": [
  {
   "cell_type": "code",
   "execution_count": 1,
   "metadata": {},
   "outputs": [],
   "source": [
    "import numpy as np\n",
    "import pandas as pd\n",
    "import xgboost as xgb\n",
    "from sklearn.model_selection import train_test_split\n",
    "from sklearn.metrics import mean_squared_error as MSE"
   ]
  },
  {
   "cell_type": "code",
   "execution_count": 2,
   "metadata": {},
   "outputs": [],
   "source": [
    "dataset = pd.read_csv(\"..\\\\DATA\\\\processed_stock_data.csv\")"
   ]
  },
  {
   "cell_type": "code",
   "execution_count": 3,
   "metadata": {},
   "outputs": [
    {
     "name": "stdout",
     "output_type": "stream",
     "text": [
      "(416, 12)\n"
     ]
    }
   ],
   "source": [
    "print(dataset.shape)"
   ]
  },
  {
   "cell_type": "code",
   "execution_count": 4,
   "metadata": {
    "scrolled": true
   },
   "outputs": [
    {
     "data": {
      "text/html": [
       "<div>\n",
       "<style scoped>\n",
       "    .dataframe tbody tr th:only-of-type {\n",
       "        vertical-align: middle;\n",
       "    }\n",
       "\n",
       "    .dataframe tbody tr th {\n",
       "        vertical-align: top;\n",
       "    }\n",
       "\n",
       "    .dataframe thead th {\n",
       "        text-align: right;\n",
       "    }\n",
       "</style>\n",
       "<table border=\"1\" class=\"dataframe\">\n",
       "  <thead>\n",
       "    <tr style=\"text-align: right;\">\n",
       "      <th></th>\n",
       "      <th>Unnamed: 0</th>\n",
       "      <th>ticker</th>\n",
       "      <th>list_date</th>\n",
       "      <th>market_cap</th>\n",
       "      <th>mkt_cap_low</th>\n",
       "      <th>mkt_cap_high</th>\n",
       "      <th>lower_offer_pr</th>\n",
       "      <th>upper_offer_pr</th>\n",
       "      <th>final_offer_price</th>\n",
       "      <th>over_sub_ratio</th>\n",
       "      <th>allot_odds</th>\n",
       "      <th>firstday_return</th>\n",
       "    </tr>\n",
       "  </thead>\n",
       "  <tbody>\n",
       "    <tr>\n",
       "      <th>0</th>\n",
       "      <td>0</td>\n",
       "      <td>06618.HK</td>\n",
       "      <td>2020/12/08</td>\n",
       "      <td>1963.81-2207.09</td>\n",
       "      <td>1963.81</td>\n",
       "      <td>1963.81</td>\n",
       "      <td>62.800</td>\n",
       "      <td>70.58</td>\n",
       "      <td>70.580</td>\n",
       "      <td>420.9</td>\n",
       "      <td>0.4</td>\n",
       "      <td>0.00000</td>\n",
       "    </tr>\n",
       "    <tr>\n",
       "      <th>1</th>\n",
       "      <td>1</td>\n",
       "      <td>02110.HK</td>\n",
       "      <td>2020/12/07</td>\n",
       "      <td>5.00-6.00</td>\n",
       "      <td>5.00</td>\n",
       "      <td>5.00</td>\n",
       "      <td>0.225</td>\n",
       "      <td>0.27</td>\n",
       "      <td>0.225</td>\n",
       "      <td>35.8</td>\n",
       "      <td>0.2</td>\n",
       "      <td>-0.14667</td>\n",
       "    </tr>\n",
       "    <tr>\n",
       "      <th>2</th>\n",
       "      <td>2</td>\n",
       "      <td>06666.HK</td>\n",
       "      <td>2020/12/02</td>\n",
       "      <td>918.92-1054.05</td>\n",
       "      <td>918.92</td>\n",
       "      <td>918.92</td>\n",
       "      <td>8.500</td>\n",
       "      <td>9.75</td>\n",
       "      <td>8.800</td>\n",
       "      <td>9.7</td>\n",
       "      <td>0.5</td>\n",
       "      <td>-0.00227</td>\n",
       "    </tr>\n",
       "    <tr>\n",
       "      <th>3</th>\n",
       "      <td>3</td>\n",
       "      <td>06996.HK</td>\n",
       "      <td>2020/11/20</td>\n",
       "      <td>105.58-120.81</td>\n",
       "      <td>105.58</td>\n",
       "      <td>105.58</td>\n",
       "      <td>15.800</td>\n",
       "      <td>18.08</td>\n",
       "      <td>18.080</td>\n",
       "      <td>263.8</td>\n",
       "      <td>0.2</td>\n",
       "      <td>0.01106</td>\n",
       "    </tr>\n",
       "    <tr>\n",
       "      <th>4</th>\n",
       "      <td>4</td>\n",
       "      <td>01516.HK</td>\n",
       "      <td>2020/11/19</td>\n",
       "      <td>316.50-379.50</td>\n",
       "      <td>316.50</td>\n",
       "      <td>316.50</td>\n",
       "      <td>10.550</td>\n",
       "      <td>12.65</td>\n",
       "      <td>11.600</td>\n",
       "      <td>9.4</td>\n",
       "      <td>0.3</td>\n",
       "      <td>0.21897</td>\n",
       "    </tr>\n",
       "  </tbody>\n",
       "</table>\n",
       "</div>"
      ],
      "text/plain": [
       "   Unnamed: 0    ticker   list_date       market_cap  mkt_cap_low  \\\n",
       "0           0  06618.HK  2020/12/08  1963.81-2207.09      1963.81   \n",
       "1           1  02110.HK  2020/12/07        5.00-6.00         5.00   \n",
       "2           2  06666.HK  2020/12/02   918.92-1054.05       918.92   \n",
       "3           3  06996.HK  2020/11/20    105.58-120.81       105.58   \n",
       "4           4  01516.HK  2020/11/19    316.50-379.50       316.50   \n",
       "\n",
       "   mkt_cap_high  lower_offer_pr  upper_offer_pr  final_offer_price  \\\n",
       "0       1963.81          62.800           70.58             70.580   \n",
       "1          5.00           0.225            0.27              0.225   \n",
       "2        918.92           8.500            9.75              8.800   \n",
       "3        105.58          15.800           18.08             18.080   \n",
       "4        316.50          10.550           12.65             11.600   \n",
       "\n",
       "   over_sub_ratio  allot_odds  firstday_return  \n",
       "0           420.9         0.4          0.00000  \n",
       "1            35.8         0.2         -0.14667  \n",
       "2             9.7         0.5         -0.00227  \n",
       "3           263.8         0.2          0.01106  \n",
       "4             9.4         0.3          0.21897  "
      ]
     },
     "execution_count": 4,
     "metadata": {},
     "output_type": "execute_result"
    }
   ],
   "source": [
    "dataset.head()"
   ]
  },
  {
   "cell_type": "code",
   "execution_count": 5,
   "metadata": {},
   "outputs": [
    {
     "name": "stdout",
     "output_type": "stream",
     "text": [
      "<class 'pandas.core.frame.DataFrame'>\n",
      "RangeIndex: 416 entries, 0 to 415\n",
      "Data columns (total 12 columns):\n",
      " #   Column             Non-Null Count  Dtype  \n",
      "---  ------             --------------  -----  \n",
      " 0   Unnamed: 0         416 non-null    int64  \n",
      " 1   ticker             416 non-null    object \n",
      " 2   list_date          416 non-null    object \n",
      " 3   market_cap         416 non-null    object \n",
      " 4   mkt_cap_low        416 non-null    float64\n",
      " 5   mkt_cap_high       416 non-null    float64\n",
      " 6   lower_offer_pr     416 non-null    float64\n",
      " 7   upper_offer_pr     416 non-null    float64\n",
      " 8   final_offer_price  416 non-null    float64\n",
      " 9   over_sub_ratio     416 non-null    float64\n",
      " 10  allot_odds         416 non-null    float64\n",
      " 11  firstday_return    416 non-null    float64\n",
      "dtypes: float64(8), int64(1), object(3)\n",
      "memory usage: 39.1+ KB\n"
     ]
    }
   ],
   "source": [
    "dataset.info()"
   ]
  },
  {
   "cell_type": "markdown",
   "metadata": {},
   "source": [
    "### Columns 4-10 will be used for training, column 11 is Y"
   ]
  },
  {
   "cell_type": "code",
   "execution_count": 6,
   "metadata": {},
   "outputs": [],
   "source": [
    "X, y = dataset.iloc[:, 4:-1], dataset.iloc[:,-1]"
   ]
  },
  {
   "cell_type": "code",
   "execution_count": 7,
   "metadata": {},
   "outputs": [],
   "source": [
    "data_dmatrix = xgb.DMatrix(data=X, label=y)"
   ]
  },
  {
   "cell_type": "code",
   "execution_count": 8,
   "metadata": {},
   "outputs": [],
   "source": [
    "X_train, X_test, y_train, y_test = train_test_split(X, y, test_size=0.2, random_state=123)"
   ]
  },
  {
   "cell_type": "code",
   "execution_count": 9,
   "metadata": {},
   "outputs": [],
   "source": [
    "xg_reg = xgb.XGBRegressor(objective ='reg:linear', colsample_bytree = 0.3, learning_rate = 0.1,\n",
    "                max_depth = 5, alpha = 10, n_estimators = 10)"
   ]
  },
  {
   "cell_type": "code",
   "execution_count": 10,
   "metadata": {},
   "outputs": [
    {
     "name": "stdout",
     "output_type": "stream",
     "text": [
      "[14:31:20] WARNING: src/objective/regression_obj.cu:152: reg:linear is now deprecated in favor of reg:squarederror.\n"
     ]
    },
    {
     "data": {
      "text/plain": [
       "XGBRegressor(alpha=10, colsample_bytree=0.3, max_depth=5, n_estimators=10)"
      ]
     },
     "execution_count": 10,
     "metadata": {},
     "output_type": "execute_result"
    }
   ],
   "source": [
    "xg_reg.fit(X_train,y_train)"
   ]
  },
  {
   "cell_type": "code",
   "execution_count": 11,
   "metadata": {},
   "outputs": [],
   "source": [
    "preds = xg_reg.predict(X_test)"
   ]
  },
  {
   "cell_type": "code",
   "execution_count": 12,
   "metadata": {},
   "outputs": [
    {
     "name": "stdout",
     "output_type": "stream",
     "text": [
      "RMSE: 0.576309\n"
     ]
    }
   ],
   "source": [
    "rmse = np.sqrt(MSE(y_test, preds))\n",
    "print(\"RMSE: %f\" % (rmse))"
   ]
  },
  {
   "cell_type": "markdown",
   "metadata": {},
   "source": [
    "# Params modified here"
   ]
  },
  {
   "cell_type": "code",
   "execution_count": 13,
   "metadata": {},
   "outputs": [],
   "source": [
    "params = {\"objective\":\"reg:linear\",'colsample_bytree': 0.2,'learning_rate': 0.5,\n",
    "                'max_depth': 3, 'alpha': 10}"
   ]
  },
  {
   "cell_type": "code",
   "execution_count": 14,
   "metadata": {},
   "outputs": [
    {
     "name": "stdout",
     "output_type": "stream",
     "text": [
      "[14:31:20] WARNING: src/objective/regression_obj.cu:152: reg:linear is now deprecated in favor of reg:squarederror.\n",
      "[14:31:20] WARNING: src/objective/regression_obj.cu:152: reg:linear is now deprecated in favor of reg:squarederror.\n",
      "[14:31:20] WARNING: src/objective/regression_obj.cu:152: reg:linear is now deprecated in favor of reg:squarederror.\n"
     ]
    }
   ],
   "source": [
    "cv_results = xgb.cv(dtrain=data_dmatrix, params=params, nfold=3,\n",
    "                    num_boost_round=50,early_stopping_rounds=10,metrics=\"rmse\", as_pandas=True, seed=123)"
   ]
  },
  {
   "cell_type": "code",
   "execution_count": 15,
   "metadata": {},
   "outputs": [
    {
     "data": {
      "text/html": [
       "<div>\n",
       "<style scoped>\n",
       "    .dataframe tbody tr th:only-of-type {\n",
       "        vertical-align: middle;\n",
       "    }\n",
       "\n",
       "    .dataframe tbody tr th {\n",
       "        vertical-align: top;\n",
       "    }\n",
       "\n",
       "    .dataframe thead th {\n",
       "        text-align: right;\n",
       "    }\n",
       "</style>\n",
       "<table border=\"1\" class=\"dataframe\">\n",
       "  <thead>\n",
       "    <tr style=\"text-align: right;\">\n",
       "      <th></th>\n",
       "      <th>train-rmse-mean</th>\n",
       "      <th>train-rmse-std</th>\n",
       "      <th>test-rmse-mean</th>\n",
       "      <th>test-rmse-std</th>\n",
       "    </tr>\n",
       "  </thead>\n",
       "  <tbody>\n",
       "    <tr>\n",
       "      <th>0</th>\n",
       "      <td>0.530998</td>\n",
       "      <td>0.020468</td>\n",
       "      <td>0.532679</td>\n",
       "      <td>0.033070</td>\n",
       "    </tr>\n",
       "    <tr>\n",
       "      <th>1</th>\n",
       "      <td>0.504761</td>\n",
       "      <td>0.025882</td>\n",
       "      <td>0.507624</td>\n",
       "      <td>0.036915</td>\n",
       "    </tr>\n",
       "    <tr>\n",
       "      <th>2</th>\n",
       "      <td>0.488890</td>\n",
       "      <td>0.025664</td>\n",
       "      <td>0.491444</td>\n",
       "      <td>0.042378</td>\n",
       "    </tr>\n",
       "    <tr>\n",
       "      <th>3</th>\n",
       "      <td>0.483413</td>\n",
       "      <td>0.025847</td>\n",
       "      <td>0.486628</td>\n",
       "      <td>0.044071</td>\n",
       "    </tr>\n",
       "    <tr>\n",
       "      <th>4</th>\n",
       "      <td>0.480210</td>\n",
       "      <td>0.026729</td>\n",
       "      <td>0.484953</td>\n",
       "      <td>0.045646</td>\n",
       "    </tr>\n",
       "  </tbody>\n",
       "</table>\n",
       "</div>"
      ],
      "text/plain": [
       "   train-rmse-mean  train-rmse-std  test-rmse-mean  test-rmse-std\n",
       "0         0.530998        0.020468        0.532679       0.033070\n",
       "1         0.504761        0.025882        0.507624       0.036915\n",
       "2         0.488890        0.025664        0.491444       0.042378\n",
       "3         0.483413        0.025847        0.486628       0.044071\n",
       "4         0.480210        0.026729        0.484953       0.045646"
      ]
     },
     "execution_count": 15,
     "metadata": {},
     "output_type": "execute_result"
    }
   ],
   "source": [
    "cv_results.head()"
   ]
  },
  {
   "cell_type": "code",
   "execution_count": 16,
   "metadata": {},
   "outputs": [
    {
     "name": "stdout",
     "output_type": "stream",
     "text": [
      "49    0.478618\n",
      "Name: test-rmse-mean, dtype: float64\n"
     ]
    }
   ],
   "source": [
    "print((cv_results[\"test-rmse-mean\"]).tail(1))"
   ]
  },
  {
   "cell_type": "code",
   "execution_count": 17,
   "metadata": {},
   "outputs": [
    {
     "name": "stdout",
     "output_type": "stream",
     "text": [
      "[14:31:20] WARNING: src/objective/regression_obj.cu:152: reg:linear is now deprecated in favor of reg:squarederror.\n"
     ]
    }
   ],
   "source": [
    "xg_reg = xgb.train(params=params, dtrain=data_dmatrix, num_boost_round=10)"
   ]
  },
  {
   "cell_type": "code",
   "execution_count": 18,
   "metadata": {},
   "outputs": [
    {
     "data": {
      "image/png": "[encoded data removed]",
      "text/plain": [
       "<Figure size 432x288 with 1 Axes>"
      ]
     },
     "metadata": {
      "needs_background": "light"
     },
     "output_type": "display_data"
    }
   ],
   "source": [
    "import matplotlib.pyplot as plt\n",
    "\n",
    "xgb.plot_tree(xg_reg,num_trees=0)\n",
    "plt.rcParams['figure.figsize'] = [50, 10]\n",
    "plt.show()"
   ]
  },
  {
   "cell_type": "code",
   "execution_count": 19,
   "metadata": {
    "scrolled": true
   },
   "outputs": [
    {
     "data": {
      "image/png": "[encoded data removed]",
      "text/plain": [
       "<Figure size 3600x720 with 1 Axes>"
      ]
     },
     "metadata": {
      "needs_background": "light"
     },
     "output_type": "display_data"
    }
   ],
   "source": [
    "xgb.plot_importance(xg_reg)\n",
    "plt.rcParams['figure.figsize'] = [5, 5]\n",
    "plt.show()"
   ]
  },
  {
   "cell_type": "code",
   "execution_count": null,
   "metadata": {},
   "outputs": [],
   "source": []
  }
 ],
 "metadata": {
  "kernelspec": {
   "display_name": "Python 3",
   "language": "python",
   "name": "python3"
  },
  "language_info": {
   "codemirror_mode": {
    "name": "ipython",
    "version": 3
   },
   "file_extension": ".py",
   "mimetype": "text/x-python",
   "name": "python",
   "nbconvert_exporter": "python",
   "pygments_lexer": "ipython3",
   "version": "3.7.9"
  }
 },
 "nbformat": 4,
 "nbformat_minor": 4
}
